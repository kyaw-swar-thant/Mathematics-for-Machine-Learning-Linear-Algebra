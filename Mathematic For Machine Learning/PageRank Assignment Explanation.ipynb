{
 "cells": [
  {
   "cell_type": "markdown",
   "id": "2691c37a",
   "metadata": {},
   "source": [
    "# Notebook to check how each code block work in details\n",
    "# If something wrong or not working in this notebook,feel free to reach me out   email - mrkyawswarthant@outlook.com"
   ]
  },
  {
   "cell_type": "code",
   "execution_count": 3,
   "id": "37ca0ea9",
   "metadata": {
    "scrolled": true
   },
   "outputs": [
    {
     "name": "stdout",
     "output_type": "stream",
     "text": [
      "Populating the interactive namespace from numpy and matplotlib\n"
     ]
    }
   ],
   "source": [
    "# Before we begin, let's load the libraries.\n",
    "%pylab notebook\n",
    "import numpy as np\n",
    "import numpy.linalg as la"
   ]
  },
  {
   "cell_type": "markdown",
   "id": "2c79107f",
   "metadata": {},
   "source": [
    "#### I copy this from assignment for visual\n",
    "$$ L = \\begin{bmatrix}\n",
    "L_{A→A} & L_{B→A} & L_{C→A} & L_{D→A} & L_{E→A} & L_{F→A} \\\\\n",
    "L_{A→B} & L_{B→B} & L_{C→B} & L_{D→B} & L_{E→B} & L_{F→B} \\\\\n",
    "L_{A→C} & L_{B→C} & L_{C→C} & L_{D→C} & L_{E→C} & L_{F→C} \\\\\n",
    "L_{A→D} & L_{B→D} & L_{C→D} & L_{D→D} & L_{E→D} & L_{F→D} \\\\\n",
    "L_{A→E} & L_{B→E} & L_{C→E} & L_{D→E} & L_{E→E} & L_{F→E} \\\\\n",
    "L_{A→F} & L_{B→F} & L_{C→F} & L_{D→F} & L_{E→F} & L_{F→F} \\\\\n",
    "\\end{bmatrix}\n",
    "$$"
   ]
  },
  {
   "cell_type": "code",
   "execution_count": 4,
   "id": "1b79475e",
   "metadata": {},
   "outputs": [
    {
     "data": {
      "text/plain": [
       "(6, 6)"
      ]
     },
     "execution_count": 4,
     "metadata": {},
     "output_type": "execute_result"
    }
   ],
   "source": [
    "# This is the matrix L which represents the probability of pats leaving from one website to another through the providing link\n",
    "\n",
    "L = np.array([[0,   1/2, 1/3, 0, 0,   0 ],\n",
    "                     [1/3, 0,   0,   0, 1/2, 0 ],\n",
    "                    [1/3, 1/2, 0,   1, 0,   1/2 ],\n",
    "                    [1/3, 0,   1/3, 0, 1/2, 1/2 ],\n",
    "                    [0,   0,   0,   0, 0,   0 ],\n",
    "                   [0,   0,   1/3, 0, 0,   0 ]])\n",
    "\n",
    "# when we add up each column (column wise) we get total 1 for each column because our matrix L is made for probability\n",
    "\n",
    "L.ndim # 2 dimension\n",
    "L.shape # (6,6) square-matrix # we will use this shape() in later"
   ]
  },
  {
   "cell_type": "code",
   "execution_count": 5,
   "id": "4531e902",
   "metadata": {},
   "outputs": [
    {
     "name": "stdout",
     "output_type": "stream",
     "text": [
      "[ 1.        +0.j          0.31416979+0.j         -0.54288045+0.30393757j\n",
      " -0.54288045-0.30393757j -0.2284089 +0.j          0.        +0.j        ]\n"
     ]
    }
   ],
   "source": [
    "# We represent the number of Pats on each website with the vector (r)\n",
    "# I use my own variable name for intuition which is different from our assignment \n",
    "\n",
    "import numpy.linalg as la # library for linear algebra operation we already called this in above\n",
    "eigen_value, eigen_vector = la.eig(L) # we use eig() function to get eigen value and eigen vector from our matrix L\n",
    "\n",
    "\n",
    "# deindent with crtl+/ for check\n",
    "print (eigen_value) # compare with what happen after order\n",
    "# print (eigen_vector) # compare with what happen after order"
   ]
  },
  {
   "cell_type": "code",
   "execution_count": 6,
   "id": "4c259af3",
   "metadata": {},
   "outputs": [
    {
     "name": "stdout",
     "output_type": "stream",
     "text": [
      "[0 3 2 1 4 5]\n"
     ]
    }
   ],
   "source": [
    "order  = np.absolute(eigen_value).argsort()[::-1]\n",
    "print (order)"
   ]
  },
  {
   "cell_type": "code",
   "execution_count": 7,
   "id": "6ce66f45",
   "metadata": {},
   "outputs": [
    {
     "name": "stdout",
     "output_type": "stream",
     "text": [
      "[ 1.        +0.j         -0.54288045-0.30393757j -0.54288045+0.30393757j\n",
      "  0.31416979+0.j         -0.2284089 +0.j          0.        +0.j        ]\n"
     ]
    }
   ],
   "source": [
    "eigen_value = eigen_value[order]\n",
    "eigen_vector = eigen_vector[:,order]\n",
    "\n",
    "print (eigen_value)\n",
    "#print (eigen_vector)"
   ]
  },
  {
   "cell_type": "markdown",
   "id": "8f339a09",
   "metadata": {},
   "source": [
    "### "
   ]
  },
  {
   "cell_type": "code",
   "execution_count": 8,
   "id": "b0adcc76",
   "metadata": {},
   "outputs": [
    {
     "name": "stdout",
     "output_type": "stream",
     "text": [
      "[0.30769231+0.j 0.1025641 +0.j 0.76923077+0.j 0.48717949+0.j\n",
      " 0.        +0.j 0.25641026+0.j]\n"
     ]
    }
   ],
   "source": [
    "r = eigen_vector[:,0]  # we set r be the principal eigenvector\n",
    "print (r) # This r is for all columns in the matrix L "
   ]
  },
  {
   "cell_type": "markdown",
   "id": "b440861f",
   "metadata": {},
   "source": [
    "### (r) is the rank array of each column in matrix L and (r) array stores the rank of all webpages (mention in video)\n",
    "### To calculate the rank of each column in matrix L we need to know 3 things about all other columns in the matrix L (mention in video)\n",
    "### 3 things what we need to know is -\n",
    "###             - What is the rank of each columns in matrix L\n",
    "###             - Are these columns (others) linked to the column (we want to know ) -- in video it is rank A\n",
    "###             - How many outgoing links do we have in total?"
   ]
  },
  {
   "cell_type": "code",
   "execution_count": 9,
   "id": "c65d26d4",
   "metadata": {},
   "outputs": [],
   "source": [
    "# What we do is matrix multiplication of r and L which gives us updated value for r\n",
    "# r is now eigen vector of matrix L\n",
    "# so if we want to multiply r by L many time we can recall the initution about diagonalization \n",
    "r = L @ r # This process is iteratively until r value stop changing"
   ]
  },
  {
   "cell_type": "markdown",
   "id": "48540d24",
   "metadata": {},
   "source": [
    "#### we need automate for this iterative process until r value stop changing"
   ]
  },
  {
   "cell_type": "code",
   "execution_count": 14,
   "id": "eb4e0db3",
   "metadata": {},
   "outputs": [
    {
     "name": "stdout",
     "output_type": "stream",
     "text": [
      "This is the final value of (r) after 100 times iteration >>>  [16.          5.33333333 40.         25.33333333  0.         13.33333333]\n"
     ]
    }
   ],
   "source": [
    "r = 100 * np.ones(L.shape[0]) / L.shape[0]   # L.shape[0] is the total number of entries contained in L matrix\n",
    "                                                                     # L.shape[0] = 6\n",
    "for i in np.arange(100): # Repeat 100 times\n",
    "    r = L @ r\n",
    "print (\"This is the final value of (r) after 100 times iteration >>> \",r) # we can try with any iteration value we want"
   ]
  },
  {
   "cell_type": "code",
   "execution_count": 13,
   "id": "8b39252f",
   "metadata": {},
   "outputs": [
    {
     "name": "stdout",
     "output_type": "stream",
     "text": [
      "[1. 1. 1. 1. 1.]\n",
      "[0.2 0.2 0.2 0.2 0.2]\n"
     ]
    }
   ],
   "source": [
    "print(np.ones(5)) # example code for np.ones() output\n",
    "print (np.ones(5)/5) # example code for np.ones() output"
   ]
  },
  {
   "cell_type": "markdown",
   "id": "31f13696",
   "metadata": {},
   "source": [
    "### Better solution down there"
   ]
  },
  {
   "cell_type": "code",
   "execution_count": 15,
   "id": "8357aba1",
   "metadata": {},
   "outputs": [
    {
     "name": "stdout",
     "output_type": "stream",
     "text": [
      "18 iterations to convergence\n"
     ]
    },
    {
     "data": {
      "text/plain": [
       "array([16.00149917,  5.33252025, 39.99916911, 25.3324738 ,  0.        ,\n",
       "       13.33433767])"
      ]
     },
     "execution_count": 15,
     "metadata": {},
     "output_type": "execute_result"
    }
   ],
   "source": [
    "r = 100 * np.ones(L.shape[0]) / L.shape[0]\n",
    "\n",
    "updated_r = r                                    # we created new variable named updated_r (copy of r) for initialization of iteration\n",
    "r = L @ r\n",
    "\n",
    "i = 0                                                   # for total count of iterations\n",
    "while la.norm(updated_r - r) > 0.01: # this means when substracted value is no longer greater than 0.01 , the r value stop changing over iteration\n",
    "    updated_r = r # iteration start\n",
    "    r = L @ r\n",
    "    i += 1\n",
    "print (str(i) + \" iterations to convergence\")\n",
    "r"
   ]
  },
  {
   "cell_type": "code",
   "execution_count": 16,
   "id": "db549cc0",
   "metadata": {},
   "outputs": [],
   "source": [
    "# So I hope this comments will explain well enough if u are slow learner like me \n",
    "# Have a nice day !"
   ]
  },
  {
   "cell_type": "markdown",
   "id": "c5a832e3",
   "metadata": {},
   "source": [
    "# Graded Function"
   ]
  },
  {
   "cell_type": "code",
   "execution_count": null,
   "id": "d45c693c",
   "metadata": {},
   "outputs": [],
   "source": [
    "# GRADED FUNCTION\n",
    "\n",
    "# Complete this function to provide the PageRank for an arbitrarily sized internet.\n",
    "# I.e. the principal eigenvector of the damped system, using the power iteration method.\n",
    "# (Normalisation doesn't matter here)\n",
    "# The functions inputs are the linkMatrix, and d the damping parameter - as defined in this worksheet.\n",
    "# (The damping parameter, d, will be set by the function - no need to set this yourself.)\n",
    "\n",
    "def pageRank(linkMatrix, d) :\n",
    "    n = linkMatrix.shape[0]                                         # this is explained in example codes above we use shape for incoming Matrix entries\n",
    "    M = (d * linkMatrix) + ((1-d) /n * np.ones([n, n]) )\n",
    "    r = 100 * np.ones(n) / n\n",
    "    lastR = r\n",
    "    r = M @ r\n",
    "    i = 0\n",
    "    while la.norm(lastR - r) > 0.01 :\n",
    "        lastR = r\n",
    "        r = M @ r\n",
    "        i += 1\n",
    "    return r"
   ]
  }
 ],
 "metadata": {
  "kernelspec": {
   "display_name": "Python 3",
   "language": "python",
   "name": "python3"
  },
  "language_info": {
   "codemirror_mode": {
    "name": "ipython",
    "version": 3
   },
   "file_extension": ".py",
   "mimetype": "text/x-python",
   "name": "python",
   "nbconvert_exporter": "python",
   "pygments_lexer": "ipython3",
   "version": "3.8.8"
  }
 },
 "nbformat": 4,
 "nbformat_minor": 5
}
