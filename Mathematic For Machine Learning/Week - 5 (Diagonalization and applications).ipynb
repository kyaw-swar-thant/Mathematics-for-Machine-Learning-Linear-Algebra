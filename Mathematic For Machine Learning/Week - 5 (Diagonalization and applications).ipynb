{
 "cells": [
  {
   "cell_type": "markdown",
   "id": "51f0959c",
   "metadata": {},
   "source": [
    "# Diagonalisation and applications\n",
    "\n",
    "### Sometimes we need to apply same matrix multiplication many times\n",
    "### Imagine we need to make transformation of vector $ v $ by multiplying with $matrix T$ (Transformation Matrix).\n",
    "### If we need to do that transformation many times $ n $ ???\n",
    "\n",
    "### example >>> $ v_{1} = T \\cdot v_{0} $\n",
    "###                        $ v_{2} = T \\cdot v_{1} $  that is the same for  $ v_{2} = T^{2} \\cdot v_{0} $\n",
    "### $ v_{n} = T^{n} \\cdot v_{0} $"
   ]
  },
  {
   "cell_type": "code",
   "execution_count": 3,
   "id": "d1559bc4",
   "metadata": {},
   "outputs": [],
   "source": [
    "import numpy.linalg as lg"
   ]
  },
  {
   "cell_type": "markdown",
   "id": "b9c8e31e",
   "metadata": {},
   "source": [
    "### The intuition here is diagonalization of transformation matrix make a lot of easier for computation.\n",
    "### Example code down here\n",
    "\n",
    "\n",
    "\n",
    "# Note\n",
    "### Each columns of our transform matrix ( T ) simply represents the new location of the transformed unit (v)\n",
    "### The Diagonal matrix  ( D ) contains the corresponding eigen values of matrix T\n",
    "\n",
    "###                 $ D = C^{-1} T C $\n",
    "###                 $ D^{2} = C^{-1} T C \\cdot C ^{-1} T C $  C inverse dot with C is same as I\n",
    "### Equation $ D^{n} = C^{-1} T^{n} C $"
   ]
  },
  {
   "cell_type": "code",
   "execution_count": 4,
   "id": "9125d825",
   "metadata": {},
   "outputs": [
    {
     "name": "stdout",
     "output_type": "stream",
     "text": [
      "A >>> \n",
      " [[1 2]\n",
      " [1 2]]\n",
      "A power 3 >>> \n",
      " [[1 8]\n",
      " [1 8]]\n",
      "\n",
      "B >>> \n",
      " [[2 0]\n",
      " [0 2]]\n",
      "B power 3 >>> \n",
      " [[8 0]\n",
      " [0 8]]\n"
     ]
    }
   ],
   "source": [
    "# Example why diagonalization makes computation easier\n",
    "\n",
    "import numpy.linalg as lg\n",
    "import numpy as np\n",
    "\n",
    "A = np.array([[1,2],[1,2]])\n",
    "print (\"A >>> \\n\", A)\n",
    "print (\"A power 3 >>> \\n\", A**3)\n",
    "\n",
    "print ()\n",
    "\n",
    "B = np.array([[2,0],[0,2]])\n",
    "print(\"B >>> \\n\", B)\n",
    "print (\"B power 3 >>> \\n\",B**3)"
   ]
  },
  {
   "cell_type": "code",
   "execution_count": 5,
   "id": "4f3830ce",
   "metadata": {},
   "outputs": [],
   "source": [
    "T = np.array([[6,-1],[2,3]])\n",
    "C = np.array([[1,1],[1,2]])"
   ]
  },
  {
   "cell_type": "code",
   "execution_count": 6,
   "id": "97d9655e",
   "metadata": {},
   "outputs": [],
   "source": [
    "D = lg.inv(C) @ T @ C"
   ]
  },
  {
   "cell_type": "code",
   "execution_count": 7,
   "id": "61eee770",
   "metadata": {},
   "outputs": [
    {
     "name": "stdout",
     "output_type": "stream",
     "text": [
      "[[5. 0.]\n",
      " [0. 4.]]\n"
     ]
    }
   ],
   "source": [
    "print (D)"
   ]
  },
  {
   "cell_type": "code",
   "execution_count": 8,
   "id": "cbd7a06a",
   "metadata": {},
   "outputs": [
    {
     "name": "stdout",
     "output_type": "stream",
     "text": [
      "[[ 2  7]\n",
      " [ 0 -1]]\n",
      "[[ 7  1]\n",
      " [-3  0]]\n",
      "[[-1.00000000e+00  0.00000000e+00]\n",
      " [ 1.77635684e-15  2.00000000e+00]]\n"
     ]
    }
   ],
   "source": [
    "# Question 2\n",
    "T = np.array([[2,7],[0,-1]])\n",
    "C = np.array([[7,1],[-3,0]])\n",
    "print (T)\n",
    "print (C)\n",
    "A = lg.inv(C) @ T @ C\n",
    "print (A)"
   ]
  },
  {
   "cell_type": "code",
   "execution_count": 9,
   "id": "dc80f3de",
   "metadata": {},
   "outputs": [
    {
     "name": "stdout",
     "output_type": "stream",
     "text": [
      "[[ 1  0]\n",
      " [ 2 -1]]\n",
      "[[1 0]\n",
      " [1 1]]\n",
      "[[ 1.  0.]\n",
      " [ 0. -1.]]\n"
     ]
    }
   ],
   "source": [
    "# Question 3\n",
    "T = np.array([[1,0],[2,-1]])\n",
    "C = np.array([[1,0],[1,1]])\n",
    "print (T)\n",
    "print (C)\n",
    "A = lg.inv(C) @ T @ C\n",
    "print (A)"
   ]
  },
  {
   "cell_type": "code",
   "execution_count": 10,
   "id": "0d8e3274",
   "metadata": {},
   "outputs": [
    {
     "name": "stdout",
     "output_type": "stream",
     "text": [
      "[[1 0]\n",
      " [0 1]]\n",
      "[[1 2]\n",
      " [0 1]]\n",
      "[[1. 0.]\n",
      " [0. 1.]]\n"
     ]
    }
   ],
   "source": [
    "# Question 4\n",
    "a = 1 # Suppose \n",
    "D = np.array([[a,0],[0,a]])\n",
    "C = np.array([[1,2],[0,1]])\n",
    "print (D)\n",
    "print (C)\n",
    "T = C @ D @ lg.inv(C)\n",
    "print (T)"
   ]
  },
  {
   "cell_type": "code",
   "execution_count": 11,
   "id": "373612a0",
   "metadata": {},
   "outputs": [
    {
     "data": {
      "text/plain": [
       "array([[186., -61.],\n",
       "       [122.,   3.]])"
      ]
     },
     "execution_count": 11,
     "metadata": {},
     "output_type": "execute_result"
    }
   ],
   "source": [
    "# Question 5\n",
    "T = np.array([[6,-1],[2,3]])\n",
    "diagonal_D = np.array([[5,0],[0,4]])\n",
    "C = np.array ([[1,1],[1,2]])\n",
    "\n",
    "T_Pow_3 = C @ diagonal_D**3 @ lg.inv(C)\n",
    "T_Pow_3"
   ]
  },
  {
   "cell_type": "code",
   "execution_count": 12,
   "id": "1b4880b6",
   "metadata": {},
   "outputs": [
    {
     "data": {
      "text/plain": [
       "array([[ 8., 21.],\n",
       "       [ 0., -1.]])"
      ]
     },
     "execution_count": 12,
     "metadata": {},
     "output_type": "execute_result"
    }
   ],
   "source": [
    "# Question 6\n",
    "T = np.array([[2,7],[0,-1]])\n",
    "diagonal_D = np.array([[-1,0],[0,2]])\n",
    "C = np.array([[7,1],[-3,0]])\n",
    "\n",
    "T_pow_3 = C @ diagonal_D ** 3 @ lg.inv(C)\n",
    "\n",
    "T_pow_3"
   ]
  },
  {
   "cell_type": "code",
   "execution_count": 13,
   "id": "a9e8a552",
   "metadata": {},
   "outputs": [
    {
     "data": {
      "text/plain": [
       "array([[ 1.,  0.],\n",
       "       [ 2., -1.]])"
      ]
     },
     "execution_count": 13,
     "metadata": {},
     "output_type": "execute_result"
    }
   ],
   "source": [
    "# Question 7\n",
    "T = np.array([[1,0],[2,-1]])\n",
    "C = np.array([[1,0],[1,1]])\n",
    "D = np.array([[1,0],[0,-1]])\n",
    "\n",
    "T_power_5 = C @ D ** 5 @ lg.inv(C) # Same as formula whatever the power for transformation matrix we need the same power apply to diagonal matrix\n",
    "T_power_5"
   ]
  },
  {
   "cell_type": "code",
   "execution_count": 14,
   "id": "77cf5f24",
   "metadata": {},
   "outputs": [],
   "source": [
    "# U can stimulate in geometrical space in next exercise ! Have a nice day"
   ]
  },
  {
   "cell_type": "code",
   "execution_count": 15,
   "id": "63d7024a",
   "metadata": {},
   "outputs": [],
   "source": [
    "A = np.array([[1,1],[2,2]])\n",
    "\n",
    "I = np.array([[1,0],[0,1]])"
   ]
  },
  {
   "cell_type": "code",
   "execution_count": 16,
   "id": "3e85ed2e",
   "metadata": {},
   "outputs": [
    {
     "data": {
      "text/plain": [
       "array([[1, 1],\n",
       "       [2, 2]])"
      ]
     },
     "execution_count": 16,
     "metadata": {},
     "output_type": "execute_result"
    }
   ],
   "source": [
    "A @ I"
   ]
  },
  {
   "cell_type": "markdown",
   "id": "77eec8f0",
   "metadata": {},
   "source": [
    " https://www.coursera.org/learn/linear-algebra-machine-learning/ungradedWidget/AVEfF/visualising-matrices-and-eigen"
   ]
  },
  {
   "cell_type": "code",
   "execution_count": 17,
   "id": "1e505db5",
   "metadata": {},
   "outputs": [
    {
     "data": {
      "text/plain": [
       "0.0"
      ]
     },
     "execution_count": 17,
     "metadata": {},
     "output_type": "execute_result"
    }
   ],
   "source": [
    "lg.det(A)"
   ]
  },
  {
   "cell_type": "code",
   "execution_count": 18,
   "id": "67896485",
   "metadata": {},
   "outputs": [
    {
     "ename": "LinAlgError",
     "evalue": "Singular matrix",
     "output_type": "error",
     "traceback": [
      "\u001b[1;31m---------------------------------------------------------------------------\u001b[0m",
      "\u001b[1;31mLinAlgError\u001b[0m                               Traceback (most recent call last)",
      "\u001b[1;32m<ipython-input-18-977e33cd6833>\u001b[0m in \u001b[0;36m<module>\u001b[1;34m\u001b[0m\n\u001b[1;32m----> 1\u001b[1;33m \u001b[0mlg\u001b[0m\u001b[1;33m.\u001b[0m\u001b[0minv\u001b[0m\u001b[1;33m(\u001b[0m\u001b[0mA\u001b[0m\u001b[1;33m)\u001b[0m \u001b[1;31m# Error because  A has no inverse because determinant = 0\u001b[0m\u001b[1;33m\u001b[0m\u001b[1;33m\u001b[0m\u001b[0m\n\u001b[0m",
      "\u001b[1;32m<__array_function__ internals>\u001b[0m in \u001b[0;36minv\u001b[1;34m(*args, **kwargs)\u001b[0m\n",
      "\u001b[1;32mC:\\Anaconda\\lib\\site-packages\\numpy\\linalg\\linalg.py\u001b[0m in \u001b[0;36minv\u001b[1;34m(a)\u001b[0m\n\u001b[0;32m    543\u001b[0m     \u001b[0msignature\u001b[0m \u001b[1;33m=\u001b[0m \u001b[1;34m'D->D'\u001b[0m \u001b[1;32mif\u001b[0m \u001b[0misComplexType\u001b[0m\u001b[1;33m(\u001b[0m\u001b[0mt\u001b[0m\u001b[1;33m)\u001b[0m \u001b[1;32melse\u001b[0m \u001b[1;34m'd->d'\u001b[0m\u001b[1;33m\u001b[0m\u001b[1;33m\u001b[0m\u001b[0m\n\u001b[0;32m    544\u001b[0m     \u001b[0mextobj\u001b[0m \u001b[1;33m=\u001b[0m \u001b[0mget_linalg_error_extobj\u001b[0m\u001b[1;33m(\u001b[0m\u001b[0m_raise_linalgerror_singular\u001b[0m\u001b[1;33m)\u001b[0m\u001b[1;33m\u001b[0m\u001b[1;33m\u001b[0m\u001b[0m\n\u001b[1;32m--> 545\u001b[1;33m     \u001b[0mainv\u001b[0m \u001b[1;33m=\u001b[0m \u001b[0m_umath_linalg\u001b[0m\u001b[1;33m.\u001b[0m\u001b[0minv\u001b[0m\u001b[1;33m(\u001b[0m\u001b[0ma\u001b[0m\u001b[1;33m,\u001b[0m \u001b[0msignature\u001b[0m\u001b[1;33m=\u001b[0m\u001b[0msignature\u001b[0m\u001b[1;33m,\u001b[0m \u001b[0mextobj\u001b[0m\u001b[1;33m=\u001b[0m\u001b[0mextobj\u001b[0m\u001b[1;33m)\u001b[0m\u001b[1;33m\u001b[0m\u001b[1;33m\u001b[0m\u001b[0m\n\u001b[0m\u001b[0;32m    546\u001b[0m     \u001b[1;32mreturn\u001b[0m \u001b[0mwrap\u001b[0m\u001b[1;33m(\u001b[0m\u001b[0mainv\u001b[0m\u001b[1;33m.\u001b[0m\u001b[0mastype\u001b[0m\u001b[1;33m(\u001b[0m\u001b[0mresult_t\u001b[0m\u001b[1;33m,\u001b[0m \u001b[0mcopy\u001b[0m\u001b[1;33m=\u001b[0m\u001b[1;32mFalse\u001b[0m\u001b[1;33m)\u001b[0m\u001b[1;33m)\u001b[0m\u001b[1;33m\u001b[0m\u001b[1;33m\u001b[0m\u001b[0m\n\u001b[0;32m    547\u001b[0m \u001b[1;33m\u001b[0m\u001b[0m\n",
      "\u001b[1;32mC:\\Anaconda\\lib\\site-packages\\numpy\\linalg\\linalg.py\u001b[0m in \u001b[0;36m_raise_linalgerror_singular\u001b[1;34m(err, flag)\u001b[0m\n\u001b[0;32m     86\u001b[0m \u001b[1;33m\u001b[0m\u001b[0m\n\u001b[0;32m     87\u001b[0m \u001b[1;32mdef\u001b[0m \u001b[0m_raise_linalgerror_singular\u001b[0m\u001b[1;33m(\u001b[0m\u001b[0merr\u001b[0m\u001b[1;33m,\u001b[0m \u001b[0mflag\u001b[0m\u001b[1;33m)\u001b[0m\u001b[1;33m:\u001b[0m\u001b[1;33m\u001b[0m\u001b[1;33m\u001b[0m\u001b[0m\n\u001b[1;32m---> 88\u001b[1;33m     \u001b[1;32mraise\u001b[0m \u001b[0mLinAlgError\u001b[0m\u001b[1;33m(\u001b[0m\u001b[1;34m\"Singular matrix\"\u001b[0m\u001b[1;33m)\u001b[0m\u001b[1;33m\u001b[0m\u001b[1;33m\u001b[0m\u001b[0m\n\u001b[0m\u001b[0;32m     89\u001b[0m \u001b[1;33m\u001b[0m\u001b[0m\n\u001b[0;32m     90\u001b[0m \u001b[1;32mdef\u001b[0m \u001b[0m_raise_linalgerror_nonposdef\u001b[0m\u001b[1;33m(\u001b[0m\u001b[0merr\u001b[0m\u001b[1;33m,\u001b[0m \u001b[0mflag\u001b[0m\u001b[1;33m)\u001b[0m\u001b[1;33m:\u001b[0m\u001b[1;33m\u001b[0m\u001b[1;33m\u001b[0m\u001b[0m\n",
      "\u001b[1;31mLinAlgError\u001b[0m: Singular matrix"
     ]
    }
   ],
   "source": [
    "lg.inv(A) # Error because  A has no inverse because determinant = 0"
   ]
  },
  {
   "cell_type": "code",
   "execution_count": null,
   "id": "49a268a5",
   "metadata": {},
   "outputs": [],
   "source": [
    "import numpy.linalg as lg\n",
    "import numpy as np\n",
    "\n",
    "S = np.array([[3,0],[1,1]])"
   ]
  },
  {
   "cell_type": "code",
   "execution_count": null,
   "id": "f8b18aa2",
   "metadata": {},
   "outputs": [],
   "source": [
    "lg.det(S)  # S has determinant"
   ]
  },
  {
   "cell_type": "code",
   "execution_count": null,
   "id": "a0f2ebd5",
   "metadata": {},
   "outputs": [],
   "source": [
    "lg.inv(S) # S has inverse"
   ]
  },
  {
   "cell_type": "code",
   "execution_count": 54,
   "id": "9d01b6f2",
   "metadata": {},
   "outputs": [
    {
     "ename": "NameError",
     "evalue": "name 'S' is not defined",
     "output_type": "error",
     "traceback": [
      "\u001b[1;31m---------------------------------------------------------------------------\u001b[0m",
      "\u001b[1;31mNameError\u001b[0m                                 Traceback (most recent call last)",
      "\u001b[1;32m<ipython-input-54-1d3dfe5bb3e7>\u001b[0m in \u001b[0;36m<module>\u001b[1;34m\u001b[0m\n\u001b[1;32m----> 1\u001b[1;33m \u001b[0mT\u001b[0m \u001b[1;33m=\u001b[0m \u001b[0mS\u001b[0m \u001b[1;33m@\u001b[0m \u001b[0mlg\u001b[0m\u001b[1;33m.\u001b[0m\u001b[0minv\u001b[0m\u001b[1;33m(\u001b[0m\u001b[0mS\u001b[0m\u001b[1;33m)\u001b[0m\u001b[1;33m\u001b[0m\u001b[1;33m\u001b[0m\u001b[0m\n\u001b[0m",
      "\u001b[1;31mNameError\u001b[0m: name 'S' is not defined"
     ]
    }
   ],
   "source": [
    "T = S @ lg.inv(S)"
   ]
  },
  {
   "cell_type": "code",
   "execution_count": 55,
   "id": "34c7ee31",
   "metadata": {},
   "outputs": [
    {
     "data": {
      "text/plain": [
       "array([[ 1,  0],\n",
       "       [ 2, -1]])"
      ]
     },
     "execution_count": 55,
     "metadata": {},
     "output_type": "execute_result"
    }
   ],
   "source": [
    "T # T = I"
   ]
  },
  {
   "cell_type": "code",
   "execution_count": null,
   "id": "b8084e36",
   "metadata": {},
   "outputs": [],
   "source": []
  }
 ],
 "metadata": {
  "kernelspec": {
   "display_name": "Python 3",
   "language": "python",
   "name": "python3"
  },
  "language_info": {
   "codemirror_mode": {
    "name": "ipython",
    "version": 3
   },
   "file_extension": ".py",
   "mimetype": "text/x-python",
   "name": "python",
   "nbconvert_exporter": "python",
   "pygments_lexer": "ipython3",
   "version": "3.8.8"
  }
 },
 "nbformat": 4,
 "nbformat_minor": 5
}
